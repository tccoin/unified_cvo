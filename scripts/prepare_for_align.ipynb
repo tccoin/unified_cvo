{
 "cells": [
  {
   "cell_type": "code",
   "execution_count": 1,
   "metadata": {},
   "outputs": [],
   "source": [
    "traj = open('../test_data/05_cvo.txt')\n",
    "lines = traj.readlines()[593:1515]\n",
    "new_lines = [lines[i] for i in range(len(lines)) if i%3==0]\n",
    "new_traj = open('../test_data/05_cvo_interval.txt', 'w+')\n",
    "new_traj.writelines(new_lines)"
   ]
  },
  {
   "cell_type": "code",
   "execution_count": 16,
   "metadata": {},
   "outputs": [
    {
     "data": {
      "text/plain": [
       "(758, 253)"
      ]
     },
     "execution_count": 16,
     "metadata": {},
     "output_type": "execute_result"
    }
   ],
   "source": [
    "len(lines),len(new_lines)"
   ]
  },
  {
   "cell_type": "code",
   "execution_count": 2,
   "metadata": {},
   "outputs": [],
   "source": [
    "traj = open('../test_data/05_gt.txt')\n",
    "lines = traj.readlines()[593:1515]\n",
    "new_lines = [lines[i] for i in range(len(lines)) if i%3==0]\n",
    "new_traj = open('../test_data/05_gt_interval.txt', 'w+')\n",
    "new_traj.writelines(new_lines)"
   ]
  },
  {
   "cell_type": "code",
   "execution_count": null,
   "metadata": {},
   "outputs": [],
   "source": []
  }
 ],
 "metadata": {
  "kernelspec": {
   "display_name": "base",
   "language": "python",
   "name": "python3"
  },
  "language_info": {
   "codemirror_mode": {
    "name": "ipython",
    "version": 3
   },
   "file_extension": ".py",
   "mimetype": "text/x-python",
   "name": "python",
   "nbconvert_exporter": "python",
   "pygments_lexer": "ipython3",
   "version": "3.10.9 (main, Jan 11 2023, 15:21:40) [GCC 11.2.0]"
  },
  "orig_nbformat": 4,
  "vscode": {
   "interpreter": {
    "hash": "1f381c2373dae8bd09134bd8baa5497150a65b1d98c6928171478d5094ccec2a"
   }
  }
 },
 "nbformat": 4,
 "nbformat_minor": 2
}
